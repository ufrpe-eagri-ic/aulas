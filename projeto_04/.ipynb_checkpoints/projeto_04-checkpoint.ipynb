{
 "cells": [
  {
   "cell_type": "markdown",
   "metadata": {},
   "source": [
    "# EQUIPE\n",
    "ALUNO 1:\n",
    "\n",
    "ALUNO 2:"
   ]
  },
  {
   "cell_type": "markdown",
   "metadata": {},
   "source": [
    "# Projeto 04 - Análise de dados meteorológicos - Temperatura Máxima (Cuiabá)\n",
    "Neste problema, sua tarefa é abrir e explorar os dados meteorológicos do INMET usando o python. \n",
    "O nome do arquivo de dados é `inmet_cuiaba_tempmax_2017.txt` e encontra-se na mesma pasta deste notebook. \n",
    "\n",
    "Um exemplo de conteúdo deste arquivo encontra-se abaixo:\n",
    "\n",
    "```\n",
    "--------------------\n",
    "BDMEP - INMET\n",
    "--------------------\n",
    "Estação           : CUIABA - MT (OMM: 83361)\n",
    "Latitude  (graus) : -15.61\n",
    "Longitude (graus) : -56.1\n",
    "Altitude  (metros): 145.00\n",
    "Estação Operante\n",
    "Inicio de operação: 01/01/1911\n",
    "Periodo solicitado dos dados: 01/01/2017 a 12/12/2017\n",
    "Os dados listados abaixo são os que encontram-se digitados no BDMEP\n",
    "Hora em UTC\n",
    "--------------------\n",
    "Obs.: Os dados aparecem separados por ; (ponto e vírgula) no formato txt.\n",
    "      Para o formato planilha XLS, siga as instruções\n",
    "--------------------\n",
    "Estacao;Data;Hora;TempMaxima;\n",
    "83361;01/01/2017;0000;34.4;\n",
    "83361;02/01/2017;0000;34.9;\n",
    "83361;03/01/2017;0000;35.9;\n",
    "83361;04/01/2017;0000;35;\n",
    "83361;05/01/2017;0000;35.9;\n",
    "...\n",
    "```\n",
    "Observe que o arquivo contém um cabeçalho, e em seguida se iniciam as listagems das informações metorológicas diárias desde jan/2017 até dez/2017.\n",
    "\n",
    "As colunas mais importantes para este exercício são:\n",
    "* Estacao\n",
    "* Data\n",
    "* Hora\n",
    "* TempMaxima\n",
    "\n",
    "Utilizaremos as funções `open` e `readlines` para ler o conteúdo do arquivo e manipular seus dados.\n",
    "* Importar o módulo `numpy` e `matplotlib` (1 ponto)\n",
    "* Leia os dados para uma variável chamada `conteúdo` (1 ponto)\n",
    "* Divida os dados em variáveis separadas (1 ponto)"
   ]
  },
  {
   "cell_type": "code",
   "execution_count": 2,
   "metadata": {},
   "outputs": [],
   "source": [
    "# leia o conteudo do arquivo"
   ]
  },
  {
   "cell_type": "markdown",
   "metadata": {},
   "source": [
    "Qual a quantidade de linhas do arquivo? (1 ponto)"
   ]
  },
  {
   "cell_type": "code",
   "execution_count": null,
   "metadata": {},
   "outputs": [],
   "source": [
    "# imprima qual a quantidade de linhas do arquivo?"
   ]
  },
  {
   "cell_type": "markdown",
   "metadata": {},
   "source": [
    "Implemente um trecho de código para identificar qual a temperatura média registrada, e em quantos dias foi registrada temperatura acima da média nesta estação (4 pontos)"
   ]
  },
  {
   "cell_type": "code",
   "execution_count": null,
   "metadata": {},
   "outputs": [],
   "source": []
  },
  {
   "cell_type": "markdown",
   "metadata": {},
   "source": [
    "Utilize o matplotlib para gerar um gráfico com a temperatura máxima diária registrada em 2017 nesta estação (2 pontos)"
   ]
  },
  {
   "cell_type": "code",
   "execution_count": null,
   "metadata": {},
   "outputs": [],
   "source": []
  }
 ],
 "metadata": {
  "kernelspec": {
   "display_name": "Python 3",
   "language": "python",
   "name": "python3"
  },
  "language_info": {
   "codemirror_mode": {
    "name": "ipython",
    "version": 3
   },
   "file_extension": ".py",
   "mimetype": "text/x-python",
   "name": "python",
   "nbconvert_exporter": "python",
   "pygments_lexer": "ipython3",
   "version": "3.6.0"
  }
 },
 "nbformat": 4,
 "nbformat_minor": 2
}
