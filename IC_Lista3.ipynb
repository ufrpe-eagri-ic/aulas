{
  "nbformat": 4,
  "nbformat_minor": 0,
  "metadata": {
    "colab": {
      "name": "IC_Lista3.ipynb",
      "version": "0.3.2",
      "provenance": [],
      "include_colab_link": true
    },
    "kernelspec": {
      "name": "python3",
      "display_name": "Python 3"
    }
  },
  "cells": [
    {
      "cell_type": "markdown",
      "metadata": {
        "id": "view-in-github",
        "colab_type": "text"
      },
      "source": [
        "[View in Colaboratory](https://colab.research.google.com/github/ufrpe-eagri-ic/aulas/blob/master/IC_Lista3.ipynb)"
      ]
    },
    {
      "metadata": {
        "id": "PisUjm_V36tM",
        "colab_type": "text"
      },
      "cell_type": "markdown",
      "source": [
        "# Lista de exercícios"
      ]
    },
    {
      "metadata": {
        "id": "Y6R9RJ4S4AIN",
        "colab_type": "text"
      },
      "cell_type": "markdown",
      "source": [
        "\n",
        "Q1. Excreva uma função chamada `gerador_tabuada(n)`, capaz de gerar a tabuada de qualquer número inteiro entre 1 a 10, de acordo com o parâmetro informado. A saída deve ser conforme o exemplo abaixo:\n",
        "\n",
        "\n",
        "\n",
        "```\n",
        "gerador_tabuada(5)\n",
        "\n",
        "Tabuada de 5: o 5X1=5\n",
        "5X2=10\n",
        "...\n",
        "5X10=50\n",
        "```"
      ]
    },
    {
      "metadata": {
        "id": "PRRUVZMP3tUW",
        "colab_type": "code",
        "colab": {}
      },
      "cell_type": "code",
      "source": [
        ""
      ],
      "execution_count": 0,
      "outputs": []
    },
    {
      "metadata": {
        "id": "929K0PwL44P-",
        "colab_type": "text"
      },
      "cell_type": "markdown",
      "source": [
        "Q2. Escreva uma função chamada `eh_primo(n)`, que recebe como argumento um número inteiro e retorna `True` se ele é primo e `False` caso contrário. Um número primo é aquele que é divisível somente por ele mesmo e por 1."
      ]
    },
    {
      "metadata": {
        "id": "xifk3ubp5LEN",
        "colab_type": "code",
        "colab": {}
      },
      "cell_type": "code",
      "source": [
        ""
      ],
      "execution_count": 0,
      "outputs": []
    },
    {
      "metadata": {
        "id": "Be_ws5l46dLe",
        "colab_type": "text"
      },
      "cell_type": "markdown",
      "source": [
        "Q3. A série de Fibonacci é formada pela seqüência 1,1,2,3,5,8,13,21,34,55,... Faça uma função chamada `fibonacci(n)`  capaz de gerar a série até o n−ésimo termo sendo n um numero dado pelo usuário.\n",
        "\n",
        "Exemplo:\n",
        "\n",
        "```\n",
        "fibonacci(4)\n",
        "\n",
        ">>> 1, 1, 2, 3\n",
        "```"
      ]
    },
    {
      "metadata": {
        "id": "Q5mkkmFS6t7J",
        "colab_type": "code",
        "colab": {}
      },
      "cell_type": "code",
      "source": [
        ""
      ],
      "execution_count": 0,
      "outputs": []
    }
  ]
}