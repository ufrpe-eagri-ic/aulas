{
  "nbformat": 4,
  "nbformat_minor": 0,
  "metadata": {
    "colab": {
      "name": "09_Arquivos.ipynb",
      "version": "0.3.2",
      "provenance": [],
      "include_colab_link": true
    },
    "kernelspec": {
      "name": "python3",
      "display_name": "Python 3"
    }
  },
  "cells": [
    {
      "cell_type": "markdown",
      "metadata": {
        "id": "view-in-github",
        "colab_type": "text"
      },
      "source": [
        "[View in Colaboratory](https://colab.research.google.com/github/ufrpe-eagri-ic/aulas/blob/master/09_Arquivos.ipynb)"
      ]
    },
    {
      "metadata": {
        "id": "iUKimnloaVr6",
        "colab_type": "text"
      },
      "cell_type": "markdown",
      "source": [
        "# Modos de abertura e métodos\n",
        "\n",
        "Arquivos podem ser usados para pegar informações ou salvar informação do seu programa\n",
        "\n",
        "```open(nome_do_arquivo.extensao, modo_de_abertura)```: Abre o arquivo em algum modo de abertura\n",
        "\n",
        "'w': write - Escrever no arquivo, criando um novo ou substituindo um existente\n",
        "'r': read - Ler do arquivo\n",
        "'a': append - Extender o arquivo, inserir no final dele\n",
        "Escrever no arquivo"
      ]
    },
    {
      "metadata": {
        "id": "7_AXbTjfaSFm",
        "colab_type": "code",
        "colab": {}
      },
      "cell_type": "code",
      "source": [
        "# Abre o arquivo no modo de escrita\n",
        "file = open('arquivo.txt', 'w')"
      ],
      "execution_count": 0,
      "outputs": []
    },
    {
      "metadata": {
        "id": "yIgiDm7cazBB",
        "colab_type": "code",
        "colab": {}
      },
      "cell_type": "code",
      "source": [
        "# Escrever uma string no arquivo\n",
        "file.write('Chiclete com banana\\n')\n",
        "file.write('Claudia Leite\\n')"
      ],
      "execution_count": 0,
      "outputs": []
    },
    {
      "metadata": {
        "id": "999XuqaFazd6",
        "colab_type": "code",
        "colab": {}
      },
      "cell_type": "code",
      "source": [
        "# Escreve uma lista de strings no arquivo\n",
        "file.writelines(['Ola ', 'arquivo ', 'essa ', 'eh ', 'nossa ', 'primeira ', 'aula '])\n",
        "\n",
        "# Fechar o arquivo - obrigatorio\n",
        "file.close()"
      ],
      "execution_count": 0,
      "outputs": []
    },
    {
      "metadata": {
        "id": "UhY3gvzKa-fr",
        "colab_type": "text"
      },
      "cell_type": "markdown",
      "source": [
        "\n",
        "## Ler do arquivo linha por linha"
      ]
    },
    {
      "metadata": {
        "id": "wIXQqIoMbCcg",
        "colab_type": "code",
        "colab": {}
      },
      "cell_type": "code",
      "source": [
        "# Abre o arquivo no modo leitura\n",
        "file = open('arquivo.txt', 'r')"
      ],
      "execution_count": 0,
      "outputs": []
    },
    {
      "metadata": {
        "id": "v6Cwy8fWbHh4",
        "colab_type": "code",
        "colab": {}
      },
      "cell_type": "code",
      "source": [
        "# Ler somente uma linha do arquivo e passa para a próxima linha\n",
        "line01 = file.readline()\n",
        "line02 = file.readline()\n",
        "line03 = file.readline()\n",
        "print(line01)\n",
        "print(line02)\n",
        "print(line03)"
      ],
      "execution_count": 0,
      "outputs": []
    },
    {
      "metadata": {
        "id": "xTtK8eL3bJxn",
        "colab_type": "code",
        "colab": {}
      },
      "cell_type": "code",
      "source": [
        "# Fechar o arquivo - obrigatorio\n",
        "file.close()"
      ],
      "execution_count": 0,
      "outputs": []
    },
    {
      "metadata": {
        "id": "dC-_gcIVbN5r",
        "colab_type": "text"
      },
      "cell_type": "markdown",
      "source": [
        "## Ler do arquivo e armazenar em uma lista"
      ]
    },
    {
      "metadata": {
        "id": "KOHc12yEbQG-",
        "colab_type": "code",
        "colab": {}
      },
      "cell_type": "code",
      "source": [
        "# Abre o arquivo no modo leitura\n",
        "file = open('arquivo.txt', 'r')\n",
        "\n",
        "# Ler o arquivo e armazena em uma lista linha por linha\n",
        "file_list = file.readlines()\n",
        "\n",
        "# Fechar o arquivo - obrigatorio\n",
        "file.close()\n",
        "\n",
        "print(file_list)"
      ],
      "execution_count": 0,
      "outputs": []
    },
    {
      "metadata": {
        "id": "2pIKrGuXbVnM",
        "colab_type": "code",
        "colab": {}
      },
      "cell_type": "code",
      "source": [
        "# Ler todo o arquivo\n",
        "\n",
        "# Abre o arquivo no modo leitura\n",
        "file = open('arquivo.txt', 'r')\n",
        "\n",
        "# Ler o arquivo\n",
        "x = file.read()\n",
        "print(x)\n",
        "\n",
        "# Fechar o arquivo - obrigatorio\n",
        "file.close()"
      ],
      "execution_count": 0,
      "outputs": []
    },
    {
      "metadata": {
        "id": "7vkG4VngbiUs",
        "colab_type": "text"
      },
      "cell_type": "markdown",
      "source": [
        "## Inserir elementos no final do arquivo"
      ]
    },
    {
      "metadata": {
        "id": "J5bqQnrQblfi",
        "colab_type": "code",
        "colab": {}
      },
      "cell_type": "code",
      "source": [
        "# Modo de inserção no final do arquivo\n",
        "file = open('arquivo.txt', 'a')\n",
        "\n",
        "# Escreve no final do arquivo\n",
        "file.write('\\nNota linha')\n",
        "\n",
        "# Fechar o arquivo - obrigatorio\n",
        "file.close()"
      ],
      "execution_count": 0,
      "outputs": []
    }
  ]
}