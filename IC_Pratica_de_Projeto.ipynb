{
  "nbformat": 4,
  "nbformat_minor": 0,
  "metadata": {
    "colab": {
      "name": "IC - Pratica de Projeto.ipynb",
      "version": "0.3.2",
      "provenance": [],
      "collapsed_sections": [],
      "toc_visible": true,
      "include_colab_link": true
    },
    "kernelspec": {
      "name": "python3",
      "display_name": "Python 3"
    }
  },
  "cells": [
    {
      "cell_type": "markdown",
      "metadata": {
        "id": "view-in-github",
        "colab_type": "text"
      },
      "source": [
        "<a href=\"https://colab.research.google.com/github/ufrpe-eagri-ic/aulas/blob/master/IC_Pratica_de_Projeto.ipynb\" target=\"_parent\"><img src=\"https://colab.research.google.com/assets/colab-badge.svg\" alt=\"Open In Colab\"/></a>"
      ]
    },
    {
      "metadata": {
        "id": "Zjkepar3J4fl",
        "colab_type": "text"
      },
      "cell_type": "markdown",
      "source": [
        "# Problema 1 - Estatísticas básicas dos dados\n",
        "Neste problema, sua tarefa é abrir e explorar os dados meteorológicos do NOAA usando o NumPy. O nome do arquivo de dados é [1570549.csv](https://raw.githubusercontent.com/ufrpe-eagri-ic/aulas/master/1570549.csv). \n",
        "\n",
        "Um exemplo de conteúdo deste arquivo encontra-se abaixo:\n",
        "\n",
        "```\n",
        "\"STATION\",\"NAME\",\"LATITUDE\",\"LONGITUDE\",\"ELEVATION\",\"DATE\",\"PRCP\",\"PRCP_ATTRIBUTES\",\"TAVG\",\"TAVG_ATTRIBUTES\",\"TMAX\",\"TMAX_ATTRIBUTES\",\"TMIN\",\"TMIN_ATTRIBUTES\"\n",
        "\"BR00D8-0390\",\"PRESIDENTE PRUDENTE, BR\",\"-22.117\",\"-51.383\",\"450.0\",\"2018-01-01\",,,\"24.9\",\"H,,S\",,,,\n",
        "\"BR00D8-0390\",\"PRESIDENTE PRUDENTE, BR\",\"-22.117\",\"-51.383\",\"450.0\",\"2018-01-02\",,,\"21.8\",\"H,,S\",,,,\n",
        "\"BR00D8-0390\",\"PRESIDENTE PRUDENTE, BR\",\"-22.117\",\"-51.383\",\"450.0\",\"2018-01-03\",,,\"23.7\",\"H,,S\",,,,\n",
        "\"BR00D8-0390\",\"PRESIDENTE PRUDENTE, BR\",\"-22.117\",\"-51.383\",\"450.0\",\"2018-01-04\",,,\"25.4\",\"H,,S\",,,,\n",
        "\"BR00D8-0390\",\"PRESIDENTE PRUDENTE, BR\",\"-22.117\",\"-51.383\",\"450.0\",\"2018-01-05\",,,\"28.2\",\"H,,S\",,,,\n",
        "```\n",
        "OBS: valores marcados com * representam valores desconhecidos.\n",
        "\n",
        "As colunas mais importantes para este exercício são:\n",
        "* STATION = ID da estação meteorológica\n",
        "* ELEVATION\t= elevação da estação\n",
        "* LATITUDE , LONGITUDE\t= Coordenadas da estação\n",
        "* DATE\t= Data da medição\n",
        "* PRCP\t= Precipitação\n",
        "* TAVG\t= Temperatura média\n",
        "* TMAX\t= Temperatura máxima\n",
        "* TMIN\t= Temperatura mínima\n",
        "\n",
        "Por favor, responda as tarefas dadas e escreva seu código nos códigos abaixo.\n",
        "\n",
        "* Importar o módulo NumPy (0,5 pontos)\n",
        "* Leia os dados usando NumPy em uma variável chamada dados (1 ponto)\n",
        "* Divida os dados em variáveis separadas chamadas `station, elevacao, coordenadas, date, temp_avg, temp_max` e `temp_min` (1 ponto)\n"
      ]
    },
    {
      "metadata": {
        "id": "vcFeRizvJeYy",
        "colab_type": "code",
        "colab": {}
      },
      "cell_type": "code",
      "source": [
        "# SEU CÓDIGO AQUI\n",
        "raise NotImplementedError ()"
      ],
      "execution_count": 0,
      "outputs": []
    },
    {
      "metadata": {
        "id": "SG9omprZK0MY",
        "colab_type": "text"
      },
      "cell_type": "markdown",
      "source": [
        "No codeblock abaixo, imprima respostas para estas perguntas:\n",
        "\n",
        "* Quais são as dimensões dos dados?\n",
        "* Qual é o tipo de dados dos dados?"
      ]
    },
    {
      "metadata": {
        "id": "bpnP3OqhKzu3",
        "colab_type": "code",
        "colab": {}
      },
      "cell_type": "code",
      "source": [
        "# Imprima as dimensões dos dados:\n",
        "\n",
        "# Imprima o tipo de dados dos dados:"
      ],
      "execution_count": 0,
      "outputs": []
    },
    {
      "metadata": {
        "id": "Vs4bAiJRK6Ar",
        "colab_type": "text"
      },
      "cell_type": "markdown",
      "source": [
        "## Explorar estatísticas básicas nos dados (1,5 pontos)\n",
        "\n",
        "* Qual é a temperatura média em dos dados?\n",
        "* Qual é o desvio padrão da temperatura máxima?\n",
        "* Quantas estações exclusivas existem nos dados? (a variável de estação)\n",
        "\n",
        "Por favor, use os nomes das variáveis sugeridas para armazenar os resultados."
      ]
    },
    {
      "metadata": {
        "id": "4qkL5_jBLD-Q",
        "colab_type": "code",
        "colab": {}
      },
      "cell_type": "code",
      "source": [
        "# SEU CÓDIGO AQUI\n",
        "raise NotImplementedError ()\n",
        "\n",
        "# Calcule a temperatura média\n",
        "temp_mean_farenheit =\n",
        "temp_mean_celsius =\n",
        "\n",
        "# Calcule o desvio padrão da temperatura máxima:\n",
        "temp_max_std =\n",
        "\n",
        "#Calcule o número de estações (únicas):\n",
        "station_count ="
      ],
      "execution_count": 0,
      "outputs": []
    },
    {
      "metadata": {
        "id": "Ay4eKor_LK_F",
        "colab_type": "text"
      },
      "cell_type": "markdown",
      "source": [
        "Depois de inicializar as variáveis acima, você pode imprimir as respostas usando estas instruções de impressão (você não precisa alterar nada no bloco de código abaixo!)"
      ]
    },
    {
      "metadata": {
        "id": "4_YmIGdBLiPr",
        "colab_type": "code",
        "colab": {}
      },
      "cell_type": "code",
      "source": [
        "print (\"Temperatura média em Fahrenheit é\", round(temp_mean_farenheit, 1))\n",
        "print (\"Temperatura média em Celsius é\", round(temp_mean_celsius, 1))\n",
        "\n",
        "print (\"desvio padrão da temperatura máxima é\", round(temp_max_std, 1))\n",
        "print (\"O número de estações únicas é\", station_count)"
      ],
      "execution_count": 0,
      "outputs": []
    },
    {
      "metadata": {
        "id": "V6yShgpIA9Bl",
        "colab_type": "text"
      },
      "cell_type": "markdown",
      "source": [
        "## Plots\n",
        "\n",
        "Plote as estações e suas respectivas coordenadas (obs: Não precisa usar o cartopy)"
      ]
    },
    {
      "metadata": {
        "id": "mdHJa_swA-Mq",
        "colab_type": "code",
        "colab": {}
      },
      "cell_type": "code",
      "source": [
        ""
      ],
      "execution_count": 0,
      "outputs": []
    }
  ]
}