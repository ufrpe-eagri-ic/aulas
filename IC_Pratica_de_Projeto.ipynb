{
  "nbformat": 4,
  "nbformat_minor": 0,
  "metadata": {
    "colab": {
      "name": "IC - Pratica de Projeto.ipynb",
      "version": "0.3.2",
      "provenance": [],
      "collapsed_sections": [],
      "include_colab_link": true
    },
    "kernelspec": {
      "name": "python3",
      "display_name": "Python 3"
    }
  },
  "cells": [
    {
      "cell_type": "markdown",
      "metadata": {
        "id": "view-in-github",
        "colab_type": "text"
      },
      "source": [
        "<a href=\"https://colab.research.google.com/github/ufrpe-eagri-ic/aulas/blob/master/IC_Pratica_de_Projeto.ipynb\" target=\"_parent\"><img src=\"https://colab.research.google.com/assets/colab-badge.svg\" alt=\"Open In Colab\"/></a>"
      ]
    },
    {
      "metadata": {
        "id": "Zjkepar3J4fl",
        "colab_type": "text"
      },
      "cell_type": "markdown",
      "source": [
        "# Problema 1 - Estatísticas básicas dos dados\n",
        "Neste problema, sua tarefa é abrir e explorar os dados meteorológicos do NOAA usando o NumPy. O nome do arquivo de dados é [6153237444115dat.csv](https://github.com/ufrpe-eagri-ic/aulas/blob/master/6153237444115dat.csv). \n",
        "\n",
        "Um exemplo de conteúdo deste arquivo encontra-se abaixo:\n",
        "\n",
        "```\n",
        "USAF,WBAN,YR--MODAHRMN,DIR,SPD,GUS,CLG,SKC,L,M,H,VSB,MW,MW,MW,MW,AW,AW,AW,AW,W,TEMP,DEWP,SLP,ALT,STP,MAX,MIN,PCP01,PCP06,PCP24,PCPXX,SD\n",
        "028450,99999,201705010000,174,10,14,***,***,*,*,*,2.2,**,**,**,**,67,**,**,**,8,31,31,1009.2,*****,984.1,***,***,*****,*****,*****,*****,35\n",
        "028450,99999,201705010020,180,10,***,4,***,*,*,*,2.9,**,**,**,**,10,**,**,**,*,30,30,******,29.74,******,***,***,*****,*****,*****,*****,**\n",
        "028450,99999,201705010050,190,10,***,4,***,*,*,*,2.1,**,**,**,**,10,**,**,**,*,30,30,******,29.74,******,***,***,*****,*****,*****,*****,**\n",
        "028450,99999,201705010100,188,12,16,***,***,*,*,*,3.2,**,**,**,**,77,**,**,**,*,31,30,1009.1,*****,984.0,***,***,*****,*****,*****,*****,35\n",
        "```\n",
        "OBS: valores marcados com * representam valores desconhecidos.\n",
        "\n",
        "As colunas mais importantes para este exercício são:\n",
        "* USAF = the station ID number\n",
        "  * 028450 : Rovaniemi\n",
        "  * 029980 : Helsinki Kumpula\n",
        "* YR--MODAHRMN = Year-Month-Day-Hour-Minute (Ano-Mes-Dia-Hora-Minuto) no formato *Greenwich Mean Time* (GMT)\n",
        "* TEMP = Temperatura em Fahrenheit\n",
        "* MAX = Temperatura Máxima em  Fahrenheit\n",
        "* MIN = Temperatura Minima em  Fahrenheit\n",
        "\n",
        "Por favor, responda as tarefas dadas e escreva seu código nos códigos abaixo.\n",
        "\n",
        "* Importar o módulo NumPy (0,5 pontos)\n",
        "* Leia os dados usando NumPy em uma variável chamada dados (1 ponto)\n",
        "  * Nota: Queremos apenas as colunas USAF, YR - MODAHRMN, TEMP, MAX e MIN do arquivo de dados\n",
        "* Divida os dados em variáveis separadas chamadas `station, date, temp, temp_max` e `temp_min` (1 ponto)\n"
      ]
    },
    {
      "metadata": {
        "id": "vcFeRizvJeYy",
        "colab_type": "code",
        "colab": {}
      },
      "cell_type": "code",
      "source": [
        "# SEU CÓDIGO AQUI\n",
        "raise NotImplementedError ()"
      ],
      "execution_count": 0,
      "outputs": []
    },
    {
      "metadata": {
        "id": "SG9omprZK0MY",
        "colab_type": "text"
      },
      "cell_type": "markdown",
      "source": [
        "No codeblock abaixo, imprima respostas para estas perguntas:\n",
        "\n",
        "* Quais são as dimensões dos dados?\n",
        "* Qual é o tipo de dados dos dados?"
      ]
    },
    {
      "metadata": {
        "id": "bpnP3OqhKzu3",
        "colab_type": "code",
        "colab": {}
      },
      "cell_type": "code",
      "source": [
        "# Imprima as dimensões dos dados:\n",
        "\n",
        "# Imprima o tipo de dados dos dados:"
      ],
      "execution_count": 0,
      "outputs": []
    },
    {
      "metadata": {
        "id": "Vs4bAiJRK6Ar",
        "colab_type": "text"
      },
      "cell_type": "markdown",
      "source": [
        "## Explorar estatísticas básicas nos dados (1,5 pontos)\n",
        "\n",
        "* Qual é a temperatura média em Fahrenheit nos dados?\n",
        "* Qual é a temperatura média em Celsius?\n",
        "  * Celsius = (Fahrenheit - 32) / 1.8\n",
        "* Qual é o desvio padrão da temperatura máxima (Celsius)? (a variável temp_max)\n",
        "* Quantas estações exclusivas existem nos dados? (a variável de estação)\n",
        "\n",
        "Por favor, use os nomes das variáveis sugeridas para armazenar os resultados."
      ]
    },
    {
      "metadata": {
        "id": "4qkL5_jBLD-Q",
        "colab_type": "code",
        "colab": {}
      },
      "cell_type": "code",
      "source": [
        "# SEU CÓDIGO AQUI\n",
        "raise NotImplementedError ()\n",
        "\n",
        "# Calcule a temperatura média\n",
        "temp_mean_farenheit =\n",
        "temp_mean_celsius =\n",
        "\n",
        "# Calcule o desvio padrão da temperatura máxima:\n",
        "temp_max_std =\n",
        "\n",
        "#Calcule o número de estações (únicas):\n",
        "station_count ="
      ],
      "execution_count": 0,
      "outputs": []
    },
    {
      "metadata": {
        "id": "Ay4eKor_LK_F",
        "colab_type": "text"
      },
      "cell_type": "markdown",
      "source": [
        "Depois de inicializar as variáveis acima, você pode imprimir as respostas usando estas instruções de impressão (você não precisa alterar nada no bloco de código abaixo!)"
      ]
    },
    {
      "metadata": {
        "id": "4_YmIGdBLiPr",
        "colab_type": "code",
        "colab": {}
      },
      "cell_type": "code",
      "source": [
        "print (\"Temperatura média em Fahrenheit é\", round(temp_mean_farenheit, 1))\n",
        "print (\"Temperatura média em Celsius é\", round(temp_mean_celsius, 1))\n",
        "\n",
        "print (\"desvio padrão da temperatura máxima é\", round(temp_max_std, 1))\n",
        "print (\"O número de estações únicas é\", station_count)"
      ],
      "execution_count": 0,
      "outputs": []
    },
    {
      "metadata": {
        "id": "V6yShgpIA9Bl",
        "colab_type": "text"
      },
      "cell_type": "markdown",
      "source": [
        "## Plots"
      ]
    },
    {
      "metadata": {
        "id": "mdHJa_swA-Mq",
        "colab_type": "code",
        "colab": {}
      },
      "cell_type": "code",
      "source": [
        ""
      ],
      "execution_count": 0,
      "outputs": []
    }
  ]
}