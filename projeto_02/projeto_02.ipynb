{
 "cells": [
  {
   "cell_type": "markdown",
   "metadata": {},
   "source": [
    "# EQUIPE\n",
    "ALUNO 1:\n",
    "\n",
    "ALUNO 2:"
   ]
  },
  {
   "cell_type": "markdown",
   "metadata": {},
   "source": [
    "# Projeto 02 - Análise de dados meteorológicos (Arcoverde)\n",
    "Neste problema, sua tarefa é abrir e explorar os dados meteorológicos do INMET usando o python. \n",
    "O nome do arquivo de dados é `inmet_arcoverdee_2000-2018.txt` e encontra-se na mesma pasta deste notebook. \n",
    "\n",
    "Um exemplo de conteúdo deste arquivo encontra-se abaixo:\n",
    "\n",
    "```\n",
    "--------------------\n",
    "BDMEP - INMET\n",
    "--------------------\n",
    "Estação           : RECIFE  CURADO  - PE (OMM: 82900)\n",
    "Latitude  (graus) : -8.05\n",
    "Longitude (graus) : -34.95\n",
    "Altitude  (metros): 10.00\n",
    "Estação Operante\n",
    "Inicio de operação: 07/07/1961\n",
    "Periodo solicitado dos dados: 01/01/2000 a 12/12/2018\n",
    "Os dados listados abaixo são os que encontram-se digitados no BDMEP\n",
    "Hora em UTC\n",
    "--------------------\n",
    "Obs.: Os dados aparecem separados por ; (ponto e vírgula) no formato txt.\n",
    "      Para o formato planilha XLS, siga as instruções\n",
    "--------------------\n",
    "Estacao;Data;Hora;Precipitacao;TempMaxima;TempMinima;Insolacao;Umidade Relativa Media;\n",
    "82900;01/01/2000;0000;;29.6;;10.1;73.75;\n",
    "82900;01/01/2000;1200;4.2;;22.4;;;\n",
    "82900;02/01/2000;0000;;29.6;;7;71;\n",
    "82900;02/01/2000;1200;3.1;;22.6;;;\n",
    "82900;03/01/2000;0000;;28.7;;2.8;89.25;\n",
    "82900;03/01/2000;1200;3.4;;24;;;\n",
    "...\n",
    "```\n",
    "Observe que o arquivo contém um cabeçalho, e em seguida se iniciam as listagems das informações metorológicas diárias desde 2000 até 2018.\n",
    "\n",
    "As colunas mais importantes para este exercício são:\n",
    "* Estacao\n",
    "* Data\n",
    "* Hora\n",
    "* Precipitacao\n",
    "* TempMaxima\n",
    "* TempMinima\n",
    "* Insolacao\n",
    "* Umidade Relativa Media\n",
    "\n",
    "Utilizaremos as funções `open` e `readlines` para ler o conteúdo do arquivo e manipular seus dados.\n",
    "* Importar o módulo `numpy` e `matplotlib` (1 ponto)\n",
    "* Leia os dados para uma variável chamada `conteúdo` (1 ponto)\n",
    "* Divida os dados em variáveis separadas (1 ponto)"
   ]
  },
  {
   "cell_type": "code",
   "execution_count": 2,
   "metadata": {},
   "outputs": [],
   "source": [
    "# leia o conteudo do arquivo"
   ]
  },
  {
   "cell_type": "markdown",
   "metadata": {},
   "source": [
    "Qual a quantidade de linhas do arquivo? (1 ponto)"
   ]
  },
  {
   "cell_type": "code",
   "execution_count": null,
   "metadata": {},
   "outputs": [],
   "source": [
    "# imprima qual a quantidade de linhas do arquivo?"
   ]
  },
  {
   "cell_type": "markdown",
   "metadata": {},
   "source": [
    "Implemente um trecho de código para identificar qual a maior temperatura, e qual a menor registrada nesta estação (2 pontos)"
   ]
  },
  {
   "cell_type": "code",
   "execution_count": 4,
   "metadata": {},
   "outputs": [],
   "source": [
    "# print a maior e menor temperatura"
   ]
  },
  {
   "cell_type": "markdown",
   "metadata": {},
   "source": [
    "Use o python para calcular a temperatura média mensal para o ano de **2017**, e imprima na célula abaixo (2 pontos)"
   ]
  },
  {
   "cell_type": "code",
   "execution_count": null,
   "metadata": {},
   "outputs": [],
   "source": []
  },
  {
   "cell_type": "markdown",
   "metadata": {},
   "source": [
    "Utilize o matplotlib para gerar um gráfico com as temperaturas médias mensais de 2017 registradas nesta estação (2 pontos)"
   ]
  },
  {
   "cell_type": "code",
   "execution_count": null,
   "metadata": {},
   "outputs": [],
   "source": []
  }
 ],
 "metadata": {
  "kernelspec": {
   "display_name": "Python 3",
   "language": "python",
   "name": "python3"
  },
  "language_info": {
   "codemirror_mode": {
    "name": "ipython",
    "version": 3
   },
   "file_extension": ".py",
   "mimetype": "text/x-python",
   "name": "python",
   "nbconvert_exporter": "python",
   "pygments_lexer": "ipython3",
   "version": "3.6.0"
  }
 },
 "nbformat": 4,
 "nbformat_minor": 2
}
