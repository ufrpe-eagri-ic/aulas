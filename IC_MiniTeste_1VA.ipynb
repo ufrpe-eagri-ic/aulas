{
  "nbformat": 4,
  "nbformat_minor": 0,
  "metadata": {
    "colab": {
      "name": "IC_MiniTeste_1VA.ipynb",
      "version": "0.3.2",
      "provenance": [],
      "collapsed_sections": [],
      "include_colab_link": true
    },
    "kernelspec": {
      "name": "python3",
      "display_name": "Python 3"
    }
  },
  "cells": [
    {
      "cell_type": "markdown",
      "metadata": {
        "id": "view-in-github",
        "colab_type": "text"
      },
      "source": [
        "<a href=\"https://colab.research.google.com/github/ufrpe-eagri-ic/aulas/blob/master/IC_MiniTeste_1VA.ipynb\" target=\"_parent\"><img src=\"https://colab.research.google.com/assets/colab-badge.svg\" alt=\"Open In Colab\"/></a>"
      ]
    },
    {
      "metadata": {
        "id": "GBBX3qdL_q2c",
        "colab_type": "text"
      },
      "cell_type": "markdown",
      "source": [
        "# Mini Teste\n",
        "\n",
        "1. Escreva um programa em python que receba do **usuário** o salário de uma pessoa nos meses de janeiro, fevereiro e março, calcule a média dos salários desses meses. Caso a média seja maior que 2000.00, imprima na tela \"PAGAR IMPOSTO\" e \"ISENTO\" caso contrário."
      ]
    },
    {
      "metadata": {
        "id": "xwKFfsrp_78a",
        "colab_type": "code",
        "colab": {}
      },
      "cell_type": "code",
      "source": [
        "# sua resposta"
      ],
      "execution_count": 0,
      "outputs": []
    },
    {
      "metadata": {
        "id": "YipT-SV3_9_u",
        "colab_type": "text"
      },
      "cell_type": "markdown",
      "source": [
        "2. Considere o dicionário abaixo contendo os preços das frutas em uma quitanda.  Escreva uma **funçao** chamada `calcular_total` que receba como entrada uma lista de **nomes de produtos**, e **retorne** o valor total da compra realizada. Por exemplo: \n",
        "\n",
        "> `calcular_total([‘banana’, ‘laranja’])`\n",
        "\n",
        "> deverá retornar 5.0 como resultado.\n"
      ]
    },
    {
      "metadata": {
        "id": "aN3kv9Ds_-L8",
        "colab_type": "code",
        "colab": {}
      },
      "cell_type": "code",
      "source": [
        "precos = {}\n",
        "precos['banana'] = 2.0\n",
        "precos['abacaxi'] = 5.0\n",
        "precos['melancia'] = 2.5\n",
        "precos['laranja'] = 3.0\n",
        "\n",
        "# Sua resposta a partir daqui\n"
      ],
      "execution_count": 0,
      "outputs": []
    }
  ]
}