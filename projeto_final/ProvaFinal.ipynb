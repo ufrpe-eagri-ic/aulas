{
 "cells": [
  {
   "cell_type": "markdown",
   "metadata": {},
   "source": [
    "# Prova Final"
   ]
  },
  {
   "cell_type": "markdown",
   "metadata": {},
   "source": [
    "Escreva um programa em python para:\n",
    "    1. Ler o conteudo do arquivo `dados.csv` e armazenar em uma variável (2,5)\n",
    "    2. Para cada linha do arquivo, gerar um gráfico de linha para os valores contidos na mesma (2,5)\n",
    "    3. Calcular a média dos valores em cada linha (2,5)\n",
    "    4. Gerar um gráfico de barras para os valores médios calculados de cada linha (2,5)"
   ]
  },
  {
   "cell_type": "code",
   "execution_count": null,
   "metadata": {},
   "outputs": [],
   "source": []
  }
 ],
 "metadata": {
  "kernelspec": {
   "display_name": "Python 3",
   "language": "python",
   "name": "python3"
  },
  "language_info": {
   "codemirror_mode": {
    "name": "ipython",
    "version": 3
   },
   "file_extension": ".py",
   "mimetype": "text/x-python",
   "name": "python",
   "nbconvert_exporter": "python",
   "pygments_lexer": "ipython3",
   "version": "3.6.0"
  }
 },
 "nbformat": 4,
 "nbformat_minor": 2
}
