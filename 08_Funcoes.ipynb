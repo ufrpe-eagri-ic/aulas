{
  "nbformat": 4,
  "nbformat_minor": 0,
  "metadata": {
    "colab": {
      "name": "08_Funcoes.ipynb",
      "version": "0.3.2",
      "provenance": [],
      "include_colab_link": true
    },
    "kernelspec": {
      "name": "python3",
      "display_name": "Python 3"
    }
  },
  "cells": [
    {
      "cell_type": "markdown",
      "metadata": {
        "id": "view-in-github",
        "colab_type": "text"
      },
      "source": [
        "[View in Colaboratory](https://colab.research.google.com/github/ufrpe-eagri-ic/aulas/blob/master/08_Funcoes.ipynb)"
      ]
    },
    {
      "metadata": {
        "id": "qsv3AUrXxc-5",
        "colab_type": "text"
      },
      "cell_type": "markdown",
      "source": [
        "# Teste google colab"
      ]
    },
    {
      "metadata": {
        "id": "AGy0UvoMxa0U",
        "colab_type": "text"
      },
      "cell_type": "markdown",
      "source": [
        ""
      ]
    },
    {
      "metadata": {
        "id": "PIjOZVYzx4HP",
        "colab_type": "code",
        "colab": {}
      },
      "cell_type": "code",
      "source": [
        "a = 2"
      ],
      "execution_count": 0,
      "outputs": []
    }
  ]
}