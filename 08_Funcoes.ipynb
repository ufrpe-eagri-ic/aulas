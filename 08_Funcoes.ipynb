{
  "nbformat": 4,
  "nbformat_minor": 0,
  "metadata": {
    "colab": {
      "name": "08_Funcoes.ipynb",
      "version": "0.3.2",
      "provenance": [],
      "include_colab_link": true
    },
    "kernelspec": {
      "name": "python3",
      "display_name": "Python 3"
    }
  },
  "cells": [
    {
      "cell_type": "markdown",
      "metadata": {
        "id": "view-in-github",
        "colab_type": "text"
      },
      "source": [
        "[![Open In Colab](https://colab.research.google.com/assets/colab-badge.svg)](https://colab.research.google.com/github/ufrpe-eagri-ic/aulas/blob/master/08_Funcoes.ipynb)"
      ]
    },
    {
      "metadata": {
        "id": "qsv3AUrXxc-5",
        "colab_type": "text"
      },
      "cell_type": "markdown",
      "source": [
        "# Funções\n",
        "Funções nos permitem escrever código que podemos usar no futuro. Quando colocamos uma série de instruções em uma função, podemos reutilizá-lo para receber entradas, realizar cálculos ou outras manipulações e retornar saídas, assim como uma função em matemática.\n",
        "\n",
        "É como se fosse um bloco de código reutilizavel\n",
        "\n",
        "Como criar uma função:\n",
        "\n",
        "```\n",
        "def nome_da_funcao(argumento01, argumento02, ...):\n",
        "    # Código da função\n",
        "    return alguma_coisa\n",
        "```\n",
        "O **def** declara que estaremos construindo uma função na qual temos o nome da função e seus argumentos que serão passados para função\n",
        "\n",
        "O **return** é opcional caso sua função retorne algo, ela pode somente imprimir algo não precisando do return, as funções podem retornar vários valores de uma vez, retornando uma **tupla** ou valores unicos se atribuido para a mesma quantidade de variaveis que retornou\n",
        "\n",
        "As funções devem ser definidas antes de ser executadas\n",
        "\n",
        "Usar a função:\n",
        "```\n",
        "alguma_coisa = nome_da_funcao(argumento01, argumento02)\n",
        "```\n",
        "\n",
        "Nomeclaturas: Não de o nome da função para nome de variaveis\n",
        "\n",
        "**Exemplo**\n",
        "\n",
        "Função chamada **maior_numero** que recebe dois numeros, e imprime o maior deles."
      ]
    },
    {
      "metadata": {
        "id": "AGy0UvoMxa0U",
        "colab_type": "text"
      },
      "cell_type": "markdown",
      "source": [
        ""
      ]
    },
    {
      "metadata": {
        "id": "PIjOZVYzx4HP",
        "colab_type": "code",
        "colab": {}
      },
      "cell_type": "code",
      "source": [
        "def maior_numero(num1, num2):\n",
        "  maior = num1\n",
        "  if num2 > num1:\n",
        "    maior = num2\n",
        "  print('O número ', maior, ' é o maior')"
      ],
      "execution_count": 0,
      "outputs": []
    },
    {
      "metadata": {
        "id": "Uw8HZv5OO5Ep",
        "colab_type": "text"
      },
      "cell_type": "markdown",
      "source": [
        "para usar a função:"
      ]
    },
    {
      "metadata": {
        "id": "NNIouxNuO7dN",
        "colab_type": "code",
        "colab": {}
      },
      "cell_type": "code",
      "source": [
        "maior_numero(2, 10)"
      ],
      "execution_count": 0,
      "outputs": []
    },
    {
      "metadata": {
        "id": "G54mifjBO-l1",
        "colab_type": "code",
        "colab": {}
      },
      "cell_type": "code",
      "source": [
        "# usando quantas vezes quiser\n",
        "maior_numero(10,4)\n",
        "maior_numero(20, 16)"
      ],
      "execution_count": 0,
      "outputs": []
    },
    {
      "metadata": {
        "id": "e_K1HYvlPID8",
        "colab_type": "text"
      },
      "cell_type": "markdown",
      "source": [
        "## Retornando valores"
      ]
    },
    {
      "metadata": {
        "id": "6AJlbl7CPFwn",
        "colab_type": "code",
        "colab": {}
      },
      "cell_type": "code",
      "source": [
        ""
      ],
      "execution_count": 0,
      "outputs": []
    },
    {
      "metadata": {
        "id": "N_Vpak8XPL6L",
        "colab_type": "text"
      },
      "cell_type": "markdown",
      "source": [
        "# Retornando mais de um valor"
      ]
    },
    {
      "metadata": {
        "id": "WdRTynyZPOZg",
        "colab_type": "code",
        "colab": {}
      },
      "cell_type": "code",
      "source": [
        "# Define a função de operações matematicas e retorna duas operações\n",
        "def soma_multiplica(number1, number2):\n",
        "    return number1+number2, number1*number2"
      ],
      "execution_count": 0,
      "outputs": []
    },
    {
      "metadata": {
        "id": "gr4j5gbsPSRg",
        "colab_type": "code",
        "colab": {}
      },
      "cell_type": "code",
      "source": [
        ""
      ],
      "execution_count": 0,
      "outputs": []
    }
  ]
}