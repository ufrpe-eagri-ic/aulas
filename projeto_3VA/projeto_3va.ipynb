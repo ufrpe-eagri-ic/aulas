{
 "cells": [
  {
   "cell_type": "markdown",
   "metadata": {},
   "source": [
    "# 3VA - Análise de dados meteorológicos - precipitação (RECIFE)\n",
    "Neste problema, sua tarefa é abrir e explorar os dados meteorológicos do INMET usando o python. O nome do arquivo de dados é recife_inmet_2015-2017.txt e encontra-se na mesma pasta deste notebook.\n",
    "\n",
    "Um exemplo de conteúdo deste arquivo encontra-se abaixo:\n",
    "\n",
    "```\n",
    "--------------------\n",
    "BDMEP - INMET\n",
    "--------------------\n",
    "Estação           : RECIFE  CURADO  - PE (OMM: 82900)\n",
    "Latitude  (graus) : -8.05\n",
    "Longitude (graus) : -34.95\n",
    "Altitude  (metros): 10.00\n",
    "Estação Operante\n",
    "Inicio de operação: 07/07/1961\n",
    "Periodo solicitado dos dados: 01/01/2015 a 31/12/2017\n",
    "Os dados listados abaixo são os que encontram-se digitados no BDMEP\n",
    "Hora em UTC\n",
    "--------------------\n",
    "Obs.: Os dados aparecem separados por ; (ponto e vírgula) no formato txt.\n",
    "      Para o formato planilha XLS, siga as instruções\n",
    "--------------------\n",
    "Estacao;Data;Hora;PrecipitacaoTotal;\n",
    "82900;31/01/2015;0000;65.4;\n",
    "82900;28/02/2015;0000;56.2;\n",
    "82900;31/03/2015;0000;341.2;\n",
    "```\n",
    "Observe que o arquivo contém um cabeçalho, e em seguida se iniciam as listagems das informações metorológicas diárias desde 2000 até 2018.\n",
    "\n",
    "As colunas mais importantes para este exercício são:\n",
    "\n",
    "* Estacao\n",
    "* Data\n",
    "* Hora\n",
    "* Precipitacao\n",
    "\n",
    "Utilizaremos as funções `open` e `readlines` para ler o conteúdo do arquivo e manipular seus dados.\n",
    "\n",
    "* Importar o módulo `numpy` e `matplotlib` (1 ponto)\n",
    "* Leia os dados para uma variável chamada `conteudo` (1 ponto)\n",
    "* Divida os dados em variáveis separadas (1 ponto)"
   ]
  },
  {
   "cell_type": "code",
   "execution_count": 3,
   "metadata": {},
   "outputs": [],
   "source": [
    "# leia o conteudo do arquivo\n",
    "\n",
    "# armazene as colunas Estacao, Data, Hora e PrecipitacaoTotal em variáveis separadas\n"
   ]
  },
  {
   "cell_type": "markdown",
   "metadata": {},
   "source": [
    "Utilize a função `split()` para separar a data em variáveis separadas (dia, mes, ano)  (2 pontos)"
   ]
  },
  {
   "cell_type": "code",
   "execution_count": null,
   "metadata": {},
   "outputs": [],
   "source": []
  },
  {
   "cell_type": "markdown",
   "metadata": {},
   "source": [
    "Implemente um trecho de código para identificar qual a precipitação média **por ano**, e em quantos dias foi registrada chuva acima da média **de cada ano** (2 pontos)"
   ]
  },
  {
   "cell_type": "code",
   "execution_count": null,
   "metadata": {},
   "outputs": [],
   "source": []
  },
  {
   "cell_type": "markdown",
   "metadata": {},
   "source": [
    "Plote um gráfico de linha (utilize a função do `plot`) com todas as precipitações registradas  (1 ponto)"
   ]
  },
  {
   "cell_type": "code",
   "execution_count": null,
   "metadata": {},
   "outputs": [],
   "source": []
  },
  {
   "cell_type": "markdown",
   "metadata": {},
   "source": [
    "Plote um gráfico de barra (utilize a função do `bar`) com as precipitações médias por ano (2015, 2016, 2017) (2 pontos)"
   ]
  },
  {
   "cell_type": "code",
   "execution_count": null,
   "metadata": {},
   "outputs": [],
   "source": []
  }
 ],
 "metadata": {
  "kernelspec": {
   "display_name": "Python 3",
   "language": "python",
   "name": "python3"
  },
  "language_info": {
   "codemirror_mode": {
    "name": "ipython",
    "version": 3
   },
   "file_extension": ".py",
   "mimetype": "text/x-python",
   "name": "python",
   "nbconvert_exporter": "python",
   "pygments_lexer": "ipython3",
   "version": "3.6.0"
  }
 },
 "nbformat": 4,
 "nbformat_minor": 2
}
