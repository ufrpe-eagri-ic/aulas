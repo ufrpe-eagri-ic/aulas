{
  "nbformat": 4,
  "nbformat_minor": 0,
  "metadata": {
    "colab": {
      "name": "14_Cartopy.ipynb",
      "version": "0.3.2",
      "provenance": [],
      "include_colab_link": true
    },
    "kernelspec": {
      "name": "python3",
      "display_name": "Python 3"
    }
  },
  "cells": [
    {
      "cell_type": "markdown",
      "metadata": {
        "id": "view-in-github",
        "colab_type": "text"
      },
      "source": [
        "<a href=\"https://colab.research.google.com/github/ufrpe-eagri-ic/aulas/blob/master/14_Cartopy.ipynb\" target=\"_parent\"><img src=\"https://colab.research.google.com/assets/colab-badge.svg\" alt=\"Open In Colab\"/></a>"
      ]
    },
    {
      "metadata": {
        "id": "KRJ3U7PsZ3je",
        "colab_type": "text"
      },
      "cell_type": "markdown",
      "source": [
        "# Plotando mapas\n",
        "\n",
        "## instalar dependências"
      ]
    },
    {
      "metadata": {
        "id": "4UZHAaAwTubU",
        "colab_type": "code",
        "colab": {}
      },
      "cell_type": "code",
      "source": [
        "!pip install numpy\n",
        "!pip install matplotlib\n",
        "!conda install --yes -c conda-forge cartopy\n",
        "!pip install netCDF4"
      ],
      "execution_count": 0,
      "outputs": []
    },
    {
      "metadata": {
        "id": "TKRVkE5TjAeU",
        "colab_type": "code",
        "colab": {}
      },
      "cell_type": "code",
      "source": [
        "!apt-get -qq install python-cartopy python3-cartopy\n",
        "import cartopy"
      ],
      "execution_count": 0,
      "outputs": []
    },
    {
      "metadata": {
        "id": "8hzbq4OJZ7o8",
        "colab_type": "text"
      },
      "cell_type": "markdown",
      "source": [
        "## Plotando um mapa global"
      ]
    },
    {
      "metadata": {
        "id": "I6xfbCZ-TpDD",
        "colab_type": "code",
        "colab": {}
      },
      "cell_type": "code",
      "source": [
        "from mpl_toolkits.basemap import Basemap\n",
        "import matplotlib.pyplot as plt\n",
        "import numpy as np\n",
        "# set up orthographic map projection with\n",
        "# perspective of satellite looking down at 50N, 100W.\n",
        "# use low resolution coastlines.\n",
        "map = Basemap(projection='ortho',lat_0=45,lon_0=-100,resolution='l')\n",
        "# draw coastlines, country boundaries, fill continents.\n",
        "map.drawcoastlines(linewidth=0.25)\n",
        "map.drawcountries(linewidth=0.25)\n",
        "map.fillcontinents(color='coral',lake_color='aqua')\n",
        "# draw the edge of the map projection region (the projection limb)\n",
        "map.drawmapboundary(fill_color='aqua')\n",
        "# draw lat/lon grid lines every 30 degrees.\n",
        "map.drawmeridians(np.arange(0,360,30))\n",
        "map.drawparallels(np.arange(-90,90,30))\n",
        "# make up some data on a regular lat/lon grid.\n",
        "nlats = 73; nlons = 145; delta = 2.*np.pi/(nlons-1)\n",
        "lats = (0.5*np.pi-delta*np.indices((nlats,nlons))[0,:,:])\n",
        "lons = (delta*np.indices((nlats,nlons))[1,:,:])\n",
        "wave = 0.75*(np.sin(2.*lats)**8*np.cos(4.*lons))\n",
        "mean = 0.5*np.cos(2.*lats)*((np.sin(2.*lats))**2 + 2.)\n",
        "# compute native map projection coordinates of lat/lon grid.\n",
        "x, y = map(lons*180./np.pi, lats*180./np.pi)\n",
        "# contour data over the map.\n",
        "cs = map.contour(x,y,wave+mean,15,linewidths=1.5)\n",
        "plt.title('contour lines over filled continent background')\n",
        "plt.show()"
      ],
      "execution_count": 0,
      "outputs": []
    },
    {
      "metadata": {
        "id": "syOGfxeoaASH",
        "colab_type": "text"
      },
      "cell_type": "markdown",
      "source": [
        "## Projeções\n",
        "Existem diferentes projeções do globo. Teste algumas:\n",
        "\n",
        "* PlateCarree\n",
        "* AlbersEqualArea\n",
        "* AzimuthalEquidistant\n",
        "* LambertConformal\n",
        "* LambertCylindrical\n",
        "* Mercator\n",
        "* Miller\n",
        "* Mollweide\n",
        "* Orthographic\n",
        "* Robinson\n",
        "* Sinusoidal\n",
        "* Stereographic\n",
        "* TransverseMercator\n",
        "* UTM\n",
        "* InterruptedGoodeHomolosine\n",
        "* RotatedPole\n",
        "* OSGB\n",
        "* EuroPP\n",
        "* Geostationary\n",
        "* Gnomonic\n",
        "* LambertAzimuthalEqualArea\n",
        "* NorthPolarStereo\n",
        "* OSNI\n",
        "* SouthPolarStereo\n"
      ]
    },
    {
      "metadata": {
        "id": "FMMixjtgTqhc",
        "colab_type": "code",
        "colab": {}
      },
      "cell_type": "code",
      "source": [
        ""
      ],
      "execution_count": 0,
      "outputs": []
    },
    {
      "metadata": {
        "id": "lbs5k7RRa4Ft",
        "colab_type": "text"
      },
      "cell_type": "markdown",
      "source": [
        "## Adicionando informações"
      ]
    },
    {
      "metadata": {
        "id": "QFLPPcLba79t",
        "colab_type": "code",
        "colab": {}
      },
      "cell_type": "code",
      "source": [
        "import os\n",
        "import matplotlib.pyplot as plt\n",
        "from netCDF4 import Dataset as netcdf_dataset\n",
        "import numpy as np\n",
        "\n",
        "from cartopy import config\n",
        "import cartopy.crs as ccrs\n",
        "\n",
        "\n",
        "# get the path of the file. It can be found in the repo data directory.\n",
        "fname = os.path.join(config[\"repo_data_dir\"],\n",
        "                     'netcdf', 'HadISST1_SST_update.nc'\n",
        "                     )\n",
        "\n",
        "dataset = netcdf_dataset(fname)\n",
        "sst = dataset.variables['sst'][0, :, :]\n",
        "lats = dataset.variables['lat'][:]\n",
        "lons = dataset.variables['lon'][:]\n",
        "\n",
        "ax = plt.axes(projection=ccrs.PlateCarree())\n",
        "\n",
        "plt.contourf(lons, lats, sst, 60,\n",
        "             transform=ccrs.PlateCarree())\n",
        "\n",
        "ax.coastlines()\n",
        "\n",
        "plt.show()"
      ],
      "execution_count": 0,
      "outputs": []
    },
    {
      "metadata": {
        "id": "WB05NkFfaIpe",
        "colab_type": "text"
      },
      "cell_type": "markdown",
      "source": [
        "## Centralizando o mapa"
      ]
    },
    {
      "metadata": {
        "id": "-g7_q8wEaKZ9",
        "colab_type": "code",
        "colab": {}
      },
      "cell_type": "code",
      "source": [
        "import os\n",
        "import matplotlib.pyplot as plt\n",
        "from netCDF4 import Dataset as netcdf_dataset\n",
        "import numpy as np\n",
        "\n",
        "from cartopy import config\n",
        "import cartopy.crs as ccrs\n",
        "import cartopy.feature as cfeature\n",
        "\n",
        "projection=ccrs.PlateCarree()\n",
        "fig = plt.figure()\n",
        "ax = fig.add_subplot(111, projection=projection)\n",
        "ax.set_extent([-125, -70, 24, 50], ccrs.PlateCarree())\n",
        "ax.add_feature(cartopy.feature.LAND)\n",
        "ax.add_feature(cartopy.feature.OCEAN)\n",
        "states = cfeature.NaturalEarthFeature(category='cultural', scale='50m', facecolor='none',\n",
        "                             name='admin_1_states_provinces_shp')\n",
        "ax.add_feature(states, edgecolor='gray')"
      ],
      "execution_count": 0,
      "outputs": []
    },
    {
      "metadata": {
        "id": "yME_c61Mif-P",
        "colab_type": "text"
      },
      "cell_type": "markdown",
      "source": [
        "As coordenadas da UFRPE são -8.017942, -34.943782. Modificando o exemplo anterior para centralizar o mapa em PE"
      ]
    },
    {
      "metadata": {
        "id": "yytAkoKBirCV",
        "colab_type": "code",
        "colab": {}
      },
      "cell_type": "code",
      "source": [
        "import os\n",
        "import matplotlib.pyplot as plt\n",
        "from netCDF4 import Dataset as netcdf_dataset\n",
        "import numpy as np\n",
        "\n",
        "from cartopy import config\n",
        "import cartopy.crs as ccrs\n",
        "import cartopy.feature as cfeature\n",
        "\n",
        "projection=ccrs.PlateCarree()\n",
        "fig = plt.figure()\n",
        "ax = fig.add_subplot(111, projection=projection)\n",
        "ax.set_extent([-20, -50,-12, 0], ccrs.PlateCarree())\n",
        "ax.add_feature(cartopy.feature.LAND)\n",
        "ax.add_feature(cartopy.feature.OCEAN)\n",
        "\n",
        "states = cfeature.NaturalEarthFeature(category='cultural', scale='50m', facecolor='none',\n",
        "                             name='admin_1_states_provinces_shp')\n",
        "ax.add_feature(states, edgecolor='gray')"
      ],
      "execution_count": 0,
      "outputs": []
    },
    {
      "metadata": {
        "id": "wA9iCCT8jmRn",
        "colab_type": "code",
        "colab": {}
      },
      "cell_type": "code",
      "source": [
        ""
      ],
      "execution_count": 0,
      "outputs": []
    }
  ]
}