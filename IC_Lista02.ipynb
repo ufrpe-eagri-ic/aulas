{
  "nbformat": 4,
  "nbformat_minor": 0,
  "metadata": {
    "colab": {
      "name": "IC_Lista02.ipynb",
      "version": "0.3.2",
      "provenance": [],
      "include_colab_link": true
    },
    "kernelspec": {
      "name": "python3",
      "display_name": "Python 3"
    }
  },
  "cells": [
    {
      "cell_type": "markdown",
      "metadata": {
        "id": "view-in-github",
        "colab_type": "text"
      },
      "source": [
        "[![Open In Colab](https://colab.research.google.com/assets/colab-badge.svg)](https://colab.research.google.com/github/ufrpe-eagri-ic/aulas/blob/master/IC_Lista02.ipynb)"
      ]
    },
    {
      "metadata": {
        "id": "YGRBN6sGFulc",
        "colab_type": "text"
      },
      "cell_type": "markdown",
      "source": [
        "# Lista de Exercícios \n",
        "\n",
        "---\n",
        "\n",
        "## Tuplas, Listas e Dicionários\n",
        "\n",
        "---\n"
      ]
    },
    {
      "metadata": {
        "id": "yI2lQ-6GFSXf",
        "colab_type": "code",
        "colab": {}
      },
      "cell_type": "code",
      "source": [
        "# Imprima na tela os números de 1 a 10. Use uma lista para armazenar os números.\n"
      ],
      "execution_count": 0,
      "outputs": []
    },
    {
      "metadata": {
        "id": "1L5BhsVGGDs9",
        "colab_type": "code",
        "colab": {}
      },
      "cell_type": "code",
      "source": [
        "# Crie uma lista de 5 objetos e imprima na tela\n"
      ],
      "execution_count": 0,
      "outputs": []
    },
    {
      "metadata": {
        "id": "DhBkiCRvGOpK",
        "colab_type": "code",
        "colab": {}
      },
      "cell_type": "code",
      "source": [
        "# Crie duas strings e concatene as duas em uma terceira string\n"
      ],
      "execution_count": 0,
      "outputs": []
    },
    {
      "metadata": {
        "id": "MRTm871dGQNN",
        "colab_type": "code",
        "colab": {}
      },
      "cell_type": "code",
      "source": [
        "# Crie uma tupla com os seguintes elementos: 1, 2, 2, 3, 4, 4, 4, 5 e depois utilize a função count do \n",
        "# objeto tupla para verificar quantas vezes o número 4 aparece na tupla\n"
      ],
      "execution_count": 0,
      "outputs": []
    },
    {
      "metadata": {
        "id": "sZ9k0bH1GT3f",
        "colab_type": "code",
        "colab": {}
      },
      "cell_type": "code",
      "source": [
        "# Crie um dicionário vazio e imprima na tela\n"
      ],
      "execution_count": 0,
      "outputs": []
    },
    {
      "metadata": {
        "id": "Vuy1u1UQJmyd",
        "colab_type": "code",
        "colab": {}
      },
      "cell_type": "code",
      "source": [
        "# Considere a lista de cidades em que existem estações meteorológicas em Pernambuco\n",
        "cidades = ['Recife', 'Abreu e Lima', 'Serra Talhada', 'Caruaru', 'Paulista', \\\n",
        "           'Tamandaré', 'Petrolina', 'Triunfo']\n",
        "\n",
        "# e o ano em que cada estaçao foi instalada\n",
        "ano_criacao = [1989, 1844, 1904, 2005, 2003, 1937, 2016, 2012]\n",
        "\n",
        "# Escreva um loop (laço for) que imprima na tela a seguinte informação: 'A estação de <CIDADE> foi instalada há <X> anos.'"
      ],
      "execution_count": 0,
      "outputs": []
    },
    {
      "metadata": {
        "id": "Ogxm3-eqGVfU",
        "colab_type": "code",
        "colab": {}
      },
      "cell_type": "code",
      "source": [
        "# Crie um dicionário com 3 chaves e 3 valores e imprima na tela\n"
      ],
      "execution_count": 0,
      "outputs": []
    },
    {
      "metadata": {
        "id": "LFmCJtk8GXUQ",
        "colab_type": "code",
        "colab": {}
      },
      "cell_type": "code",
      "source": [
        "# Adicione mais um elemento ao dicionário criado no exercício anterior e imprima na tela\n"
      ],
      "execution_count": 0,
      "outputs": []
    },
    {
      "metadata": {
        "id": "TzSmN8JYGZBI",
        "colab_type": "code",
        "colab": {}
      },
      "cell_type": "code",
      "source": [
        "# Crie um dicionário com 3 chaves e 3 valores. Um dos valores deve ser uma lista de 2 elementos numéricos. \n",
        "# Imprima o dicionário na tela.\n"
      ],
      "execution_count": 0,
      "outputs": []
    },
    {
      "metadata": {
        "id": "QBDm7SFnGasI",
        "colab_type": "code",
        "colab": {}
      },
      "cell_type": "code",
      "source": [
        "# Crie uma lista de 4 elementos. O primeiro elemento deve ser uma string, \n",
        "# o segundo uma tupla de 2 elementos, o terceiro um dcionário com 2 chaves e 2 valores e \n",
        "# o quarto elemento um valor do tipo float.\n",
        "# Imprima a lista na tela.\n"
      ],
      "execution_count": 0,
      "outputs": []
    },
    {
      "metadata": {
        "id": "W_1PPfeTGdBV",
        "colab_type": "code",
        "colab": {}
      },
      "cell_type": "code",
      "source": [
        "# Escreva um programa que conta a quantidade de vogais no texto definido na variavel abaixo, e armazene tal quantidade em um dicionário, onde a chave é a vogal considerada.\n",
        "texto = 'aprender python em engenharia agricola era o meu sonho'\n"
      ],
      "execution_count": 0,
      "outputs": []
    },
    {
      "metadata": {
        "id": "JY27dybiHJto",
        "colab_type": "code",
        "colab": {}
      },
      "cell_type": "code",
      "source": [
        "# Escreva um loop (laço for) que lê duas notas de 3 alunos e armazena tais notas em um dicionário, onde a chave é o nome do aluno. \n",
        "# Em seguida, escreva outro loop para calcular a média de cada aluno e imprimir na tela\n"
      ],
      "execution_count": 0,
      "outputs": []
    },
    {
      "metadata": {
        "id": "G_PiEXCrJLnf",
        "colab_type": "code",
        "colab": {}
      },
      "cell_type": "code",
      "source": [
        ""
      ],
      "execution_count": 0,
      "outputs": []
    }
  ]
}