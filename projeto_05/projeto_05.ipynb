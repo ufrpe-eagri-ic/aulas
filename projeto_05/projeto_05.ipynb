{
 "cells": [
  {
   "cell_type": "markdown",
   "metadata": {},
   "source": [
    "# EQUIPE\n",
    "ALUNO 1:\n",
    "\n",
    "ALUNO 2:"
   ]
  },
  {
   "cell_type": "markdown",
   "metadata": {},
   "source": [
    "# Projeto 05 - Análise de dados meteorológicos - Temperatura Máxima (Cuiabá)\n",
    "Neste problema, sua tarefa é abrir e explorar os dados meteorológicos do INMET usando o python. \n",
    "O nome do arquivo de dados é `inmet_cuiaba_tempmax_2017.txt` e encontra-se na mesma pasta deste notebook. \n",
    "\n",
    "Um exemplo de conteúdo deste arquivo encontra-se abaixo:\n",
    "\n",
    "```\n",
    "--------------------\n",
    "BDMEP - INMET\n",
    "--------------------\n",
    "Estação           : CUIABA - MT (OMM: 83361)\n",
    "Latitude  (graus) : -15.61\n",
    "Longitude (graus) : -56.1\n",
    "Altitude  (metros): 145.00\n",
    "Estação Operante\n",
    "Inicio de operação: 01/01/1911\n",
    "Periodo solicitado dos dados: 01/01/2017 a 12/12/2017\n",
    "Os dados listados abaixo são os que encontram-se digitados no BDMEP\n",
    "Hora em UTC\n",
    "--------------------\n",
    "Obs.: Os dados aparecem separados por ; (ponto e vírgula) no formato txt.\n",
    "      Para o formato planilha XLS, siga as instruções\n",
    "--------------------\n",
    "Estacao;Data;Hora;TempMaxima;\n",
    "83361;01/01/2017;0000;34.4;\n",
    "83361;02/01/2017;0000;34.9;\n",
    "83361;03/01/2017;0000;35.9;\n",
    "83361;04/01/2017;0000;35;\n",
    "83361;05/01/2017;0000;35.9;\n",
    "...\n",
    "```\n",
    "Observe que o arquivo contém um cabeçalho, e em seguida se iniciam as listagems das informações metorológicas diárias desde jan/2017 até dez/2017.\n",
    "\n",
    "As colunas mais importantes para este exercício são:\n",
    "* Estacao\n",
    "* Data\n",
    "* Hora\n",
    "* TempMaxima\n",
    "\n",
    "Utilizaremos as funções `open` e `readlines` para ler o conteúdo do arquivo e manipular seus dados.\n",
    "* Importar o módulo `numpy` e `matplotlib` (1 ponto)\n",
    "* Leia os dados para uma variável chamada `conteúdo` (1 ponto)\n",
    "* Divida os dados em variáveis separadas (1 ponto)"
   ]
  },
  {
   "cell_type": "code",
   "execution_count": 2,
   "metadata": {},
   "outputs": [],
   "source": [
    "# leia o conteudo do arquivo"
   ]
  },
  {
   "cell_type": "markdown",
   "metadata": {},
   "source": [
    "Qual a quantidade de linhas do arquivo? (1 ponto)"
   ]
  },
  {
   "cell_type": "code",
   "execution_count": null,
   "metadata": {},
   "outputs": [],
   "source": [
    "# imprima qual a quantidade de linhas do arquivo?"
   ]
  },
  {
   "cell_type": "markdown",
   "metadata": {},
   "source": [
    "Sabendo que as estações do ano no Brasil são definidos nos seguintes intervalos:\n",
    "* OUTONO: \n",
    "    * Início: 20 de março \n",
    "    * Fim: 21 de junho\n",
    "* INVERNO:\n",
    "    * Início: 21 de junho\n",
    "    * Fim: 23 de setembro\n",
    "* PRIMAVERA:\n",
    "    * Início: 23 de setembro\n",
    "    * Fim: 22 de dezembro\n",
    "* VERÃO:\n",
    "    * Início: 21 de dezembro\n",
    "    * Fim: 20 de março\n",
    "\n",
    "Implemente um trecho de código para identificar qual a temperatura média registrada em cada estação do ano (4 pontos)"
   ]
  },
  {
   "cell_type": "code",
   "execution_count": null,
   "metadata": {},
   "outputs": [],
   "source": []
  },
  {
   "cell_type": "markdown",
   "metadata": {},
   "source": [
    "Utilize o matplotlib para gerar um gráfico com a temperatura média de cada estação do ano de 2017 nesta estação (2 pontos)"
   ]
  },
  {
   "cell_type": "code",
   "execution_count": null,
   "metadata": {},
   "outputs": [],
   "source": []
  }
 ],
 "metadata": {
  "kernelspec": {
   "display_name": "Python 3",
   "language": "python",
   "name": "python3"
  },
  "language_info": {
   "codemirror_mode": {
    "name": "ipython",
    "version": 3
   },
   "file_extension": ".py",
   "mimetype": "text/x-python",
   "name": "python",
   "nbconvert_exporter": "python",
   "pygments_lexer": "ipython3",
   "version": "3.6.0"
  }
 },
 "nbformat": 4,
 "nbformat_minor": 2
}
